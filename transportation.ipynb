{
 "cells": [
  {
   "cell_type": "code",
   "execution_count": 9,
   "metadata": {
    "slideshow": {
     "slide_type": "slide"
    }
   },
   "outputs": [],
   "source": [
    "\"\"\"\n",
    "The Beer Distribution Problem for the PuLP Modeller\n",
    "\n",
    "Authors: Antony Phillips, Dr Stuart Mitchell    2007\n",
    "\"\"\"\n",
    "\n",
    "# Import PuLP modeller functions\n",
    "from pulp import *"
   ]
  },
  {
   "cell_type": "code",
   "execution_count": 16,
   "metadata": {
    "slideshow": {
     "slide_type": "fragment"
    }
   },
   "outputs": [],
   "source": [
    "# Creates a list of all the supply nodes\n",
    "Warehouses = [\"A\",\"B\"]\n",
    "\n",
    "# Creates a dictionary for the number of units of supply for each supply node\n",
    "supply = {\"A\": 1000,\n",
    "        \"B\": 4000}\n",
    "\n",
    "# Creates a list of all demand nodes\n",
    "Bars = [\"1\", \"2\", \"3\", \"4\", \"5\"]\n",
    "\n",
    "# Creates a dictionary for the number of units of demand for each demand node\n",
    "demand = {\"1\": 500,\n",
    "        \"2\": 900,\n",
    "        \"3\": 1800,\n",
    "        \"4\": 200,\n",
    "        \"5\": 700}\n",
    "\n",
    "costs = {\"A\":[0,2,4,5,2,1],#A  Warehouses\n",
    "        \"B\":[0,3,1,3,2,3] #B\n",
    "}\n"
   ]
  },
  {
   "cell_type": "code",
   "execution_count": 17,
   "metadata": {},
   "outputs": [
    {
     "data": {
      "text/plain": [
       "{'A': [0, 2, 4, 5, 2, 1], 'B': [0, 3, 1, 3, 2, 3]}"
      ]
     },
     "execution_count": 17,
     "metadata": {},
     "output_type": "execute_result"
    }
   ],
   "source": [
    "costs"
   ]
  },
  {
   "cell_type": "code",
   "execution_count": 18,
   "metadata": {},
   "outputs": [
    {
     "name": "stdout",
     "output_type": "stream",
     "text": [
      "[('A', '1'), ('A', '2'), ('A', '3'), ('A', '4'), ('A', '5'), ('B', '1'), ('B', '2'), ('B', '3'), ('B', '4'), ('B', '5')]\n",
      "{'A': {'1': Route_A_1, '2': Route_A_2, '3': Route_A_3, '4': Route_A_4, '5': Route_A_5}, 'B': {'1': Route_B_1, '2': Route_B_2, '3': Route_B_3, '4': Route_B_4, '5': Route_B_5}}\n"
     ]
    }
   ],
   "source": [
    "# Creates the prob variable to contain the problem data\n",
    "prob = LpProblem(\"Beer Distribution Problem\",LpMinimize)\n",
    "# Creates a list of tuples containing all the possible routes for transport\n",
    "Routes = [(w,b) for w in Warehouses for b in Bars]\n",
    "print(Routes)\n",
    "# A dictionary called route_vars is created to contain the referenced variables (the routes)\n",
    "route_vars = LpVariable.dicts(\"Route\",(Warehouses,Bars),0,None,LpInteger)\n",
    "print(route_vars)"
   ]
  },
  {
   "cell_type": "code",
   "execution_count": 22,
   "metadata": {},
   "outputs": [],
   "source": [
    "# The objective function is added to prob first\n",
    "prob += lpSum([route_vars[w][b]*costs[w][int(b)] for (w,b) in Routes]), \"Sum of Transporting Costs\"\n",
    "\n",
    "# The supply maximum constraints are added to prob for each supply node (warehouse)\n",
    "for w in Warehouses:\n",
    "    prob += lpSum([route_vars[w][b] for b in Bars]) <= supply[w], \"Sum of Products out of Warehouse %s\"%w\n",
    "\n",
    "# The demand minimum constraints are added to prob for each demand node (bar)\n",
    "for b in Bars:\n",
    "    prob += lpSum([route_vars[w][b] for w in Warehouses]) >= demand[b], \"Sum of Products into Bars %s\"%b"
   ]
  },
  {
   "cell_type": "code",
   "execution_count": 26,
   "metadata": {},
   "outputs": [
    {
     "name": "stdout",
     "output_type": "stream",
     "text": [
      "Beer Distribution Problem:\n",
      "MINIMIZE\n",
      "2*Route_A_1 + 4*Route_A_2 + 5*Route_A_3 + 2*Route_A_4 + 1*Route_A_5 + 3*Route_B_1 + 1*Route_B_2 + 3*Route_B_3 + 2*Route_B_4 + 3*Route_B_5 + 0\n",
      "SUBJECT TO\n",
      "Sum_of_Products_out_of_Warehouse_A: Route_A_1 + Route_A_2 + Route_A_3\n",
      " + Route_A_4 + Route_A_5 <= 1000\n",
      "\n",
      "Sum_of_Products_out_of_Warehouse_B: Route_B_1 + Route_B_2 + Route_B_3\n",
      " + Route_B_4 + Route_B_5 <= 4000\n",
      "\n",
      "Sum_of_Products_into_Bars_1: Route_A_1 + Route_B_1 >= 500\n",
      "\n",
      "Sum_of_Products_into_Bars_2: Route_A_2 + Route_B_2 >= 900\n",
      "\n",
      "Sum_of_Products_into_Bars_3: Route_A_3 + Route_B_3 >= 1800\n",
      "\n",
      "Sum_of_Products_into_Bars_4: Route_A_4 + Route_B_4 >= 200\n",
      "\n",
      "Sum_of_Products_into_Bars_5: Route_A_5 + Route_B_5 >= 700\n",
      "\n",
      "VARIABLES\n",
      "0 <= Route_A_1 Integer\n",
      "0 <= Route_A_2 Integer\n",
      "0 <= Route_A_3 Integer\n",
      "0 <= Route_A_4 Integer\n",
      "0 <= Route_A_5 Integer\n",
      "0 <= Route_B_1 Integer\n",
      "0 <= Route_B_2 Integer\n",
      "0 <= Route_B_3 Integer\n",
      "0 <= Route_B_4 Integer\n",
      "0 <= Route_B_5 Integer\n",
      "\n"
     ]
    }
   ],
   "source": [
    "print(prob)"
   ]
  },
  {
   "cell_type": "code",
   "execution_count": 27,
   "metadata": {},
   "outputs": [],
   "source": [
    "def print_rozwiazanie(p):\n",
    "    p.solve()\n",
    "    print(\"Status:\", LpStatus[p.status])\n",
    "    for v in p.variables():\n",
    "        print (v.name, \"=\", v.varValue)\n",
    "    print(\"Cel = \", value(p.objective))\n"
   ]
  },
  {
   "cell_type": "code",
   "execution_count": 28,
   "metadata": {},
   "outputs": [
    {
     "name": "stdout",
     "output_type": "stream",
     "text": [
      "Status: Optimal\n",
      "Route_A_1 = 300.0\n",
      "Route_A_2 = 0.0\n",
      "Route_A_3 = 0.0\n",
      "Route_A_4 = 0.0\n",
      "Route_A_5 = 700.0\n",
      "Route_B_1 = 200.0\n",
      "Route_B_2 = 900.0\n",
      "Route_B_3 = 1800.0\n",
      "Route_B_4 = 200.0\n",
      "Route_B_5 = 0.0\n",
      "Cel =  8600.0\n"
     ]
    }
   ],
   "source": [
    "print_rozwiazanie(prob)"
   ]
  },
  {
   "cell_type": "code",
   "execution_count": null,
   "metadata": {},
   "outputs": [],
   "source": []
  }
 ],
 "metadata": {
  "celltoolbar": "Slideshow",
  "kernelspec": {
   "display_name": "Python 3",
   "language": "python",
   "name": "python3"
  },
  "language_info": {
   "codemirror_mode": {
    "name": "ipython",
    "version": 3
   },
   "file_extension": ".py",
   "mimetype": "text/x-python",
   "name": "python",
   "nbconvert_exporter": "python",
   "pygments_lexer": "ipython3",
   "version": "3.7.3"
  }
 },
 "nbformat": 4,
 "nbformat_minor": 2
}
