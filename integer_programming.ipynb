{
 "cells": [
  {
   "cell_type": "code",
   "execution_count": 224,
   "metadata": {
    "slideshow": {
     "slide_type": "skip"
    }
   },
   "outputs": [
    {
     "name": "stdout",
     "output_type": "stream",
     "text": [
      "Requirement already satisfied: puLP in /home/igor/anaconda3/lib/python3.7/site-packages (1.6.8)\r\n",
      "Requirement already satisfied: pyparsing>=2.0.1 in /home/igor/anaconda3/lib/python3.7/site-packages (from puLP) (2.3.1)\r\n"
     ]
    }
   ],
   "source": [
    "!pip install puLP"
   ]
  },
  {
   "cell_type": "markdown",
   "metadata": {
    "slideshow": {
     "slide_type": "slide"
    }
   },
   "source": [
    "## Programowanie całkowitoliczbowe"
   ]
  },
  {
   "cell_type": "markdown",
   "metadata": {
    "slideshow": {
     "slide_type": "subslide"
    }
   },
   "source": [
    "# Gdzie zbudować fabrykę?\n",
    "\n",
    "# Gdzie zbudować magazyn?\n",
    "\n",
    "Nasza firma ma już fabryki w Łodzi i Olsztynie, może je rozbudować. Chce też wybudować (jeden) magazyn\n",
    "\n",
    "Decyzje (zmienne decyzyjne)\n",
    "\n",
    "### Czy budujemy fabrykę w Łodzi?: x1: wartość dodana: 9 milionów, kapitał potrzebny 6 milionów\n",
    "### W Olsztynie? : x2 5 milionów i 3 miliony\n",
    "### Magazyn w Łodzi?: 6 milionów i 5 milionów\n",
    "### W Olsztynie: 4 miliony i 2 miliony\n",
    "\n",
    "Mamy dostępny kapitał 10 milionów\n",
    "\n",
    "Ma sens budować w danym mieście mmagazyn tylko jeśli jest tam fabryka\n",
    "\n",
    "Jak sformułujemy zysk?\n",
    "Jak ograniczenia\n"
   ]
  },
  {
   "cell_type": "code",
   "execution_count": 192,
   "metadata": {
    "slideshow": {
     "slide_type": "slide"
    }
   },
   "outputs": [],
   "source": [
    "import pulp\n",
    "\n",
    "from pulp import *\n",
    "\n",
    "prob = LpProblem(\"Problem Fabryk\", LpMaximize)"
   ]
  },
  {
   "cell_type": "code",
   "execution_count": 193,
   "metadata": {
    "slideshow": {
     "slide_type": "fragment"
    }
   },
   "outputs": [],
   "source": [
    "#zmienne\n",
    "x1=LpVariable(\"Fabryka_Lodz\",cat = LpBinary)\n",
    "\n",
    "x2=LpVariable(\"Fabryka_Olsztyn\",cat = LpBinary)\n",
    "x3=LpVariable(\"Magazyn_Lodz\",cat = LpBinary)\n",
    "x4=LpVariable(\"Magazyn_Olsztyn\",cat = LpBinary)\n"
   ]
  },
  {
   "cell_type": "code",
   "execution_count": 194,
   "metadata": {
    "slideshow": {
     "slide_type": "fragment"
    }
   },
   "outputs": [],
   "source": [
    "#zysk\n",
    "prob += 9*x1+5*x2+6*x3+20*x4, \"Całkowita wartość dodana\"\n",
    "\n",
    "\n"
   ]
  },
  {
   "cell_type": "code",
   "execution_count": 195,
   "metadata": {
    "slideshow": {
     "slide_type": "slide"
    }
   },
   "outputs": [],
   "source": [
    "#ograniczenia\n",
    "\n",
    "prob += 6*x1+3*x2+5*x3+2*x4<= 10, \"dostępny kapitał\"\n",
    "\n",
    "\n",
    "# tylko jeden magazyn ?\n",
    "\n",
    "\n",
    "# x1 fabryka w Łodzi\n",
    "# x2 fabryka w Olsztynie\n",
    "# x3 magazyn w Łodzi  \n",
    "# x4 magazyn w Olsztynie\n",
    "\n"
   ]
  },
  {
   "cell_type": "code",
   "execution_count": 196,
   "metadata": {
    "slideshow": {
     "slide_type": "fragment"
    }
   },
   "outputs": [],
   "source": [
    "prob += x3+x4 <=1, \"maksymalnie jeden magazyn\"\n",
    "\n"
   ]
  },
  {
   "cell_type": "code",
   "execution_count": 197,
   "metadata": {
    "slideshow": {
     "slide_type": "fragment"
    }
   },
   "outputs": [],
   "source": [
    "prob += x1 - x3 >= 0, \"zgoda na budowę magazynu w Łodzi tylko jeśli jest fabryka\"\n",
    "\n",
    "prob += x2 - x4 >= 0, \"zgoda na budowę magazynu w Olsztynie tylko jeśli jest fabryka\"\n",
    "\n",
    "### gdyby fabryka w Łodzi to w Olsztynie też\n",
    "\n",
    "\n"
   ]
  },
  {
   "cell_type": "code",
   "execution_count": 198,
   "metadata": {
    "slideshow": {
     "slide_type": "slide"
    }
   },
   "outputs": [
    {
     "data": {
      "text/plain": [
       "1"
      ]
     },
     "execution_count": 198,
     "metadata": {},
     "output_type": "execute_result"
    }
   ],
   "source": [
    "prob.solve()"
   ]
  },
  {
   "cell_type": "code",
   "execution_count": 199,
   "metadata": {},
   "outputs": [],
   "source": [
    "def print_rozwiazanie(p):\n",
    "    p.solve()\n",
    "    print(\"Status:\", LpStatus[p.status])\n",
    "    for v in p.variables():\n",
    "        print (v.name, \"=\", v.varValue)\n",
    "    print(\"Cel = \", value(p.objective))\n"
   ]
  },
  {
   "cell_type": "code",
   "execution_count": 200,
   "metadata": {
    "slideshow": {
     "slide_type": "fragment"
    }
   },
   "outputs": [
    {
     "name": "stdout",
     "output_type": "stream",
     "text": [
      "Status: Optimal\n",
      "Fabryka_Lodz = 0.0\n",
      "Fabryka_Olsztyn = 1.0\n",
      "Magazyn_Lodz = 0.0\n",
      "Magazyn_Olsztyn = 1.0\n",
      "Cel =  25.0\n"
     ]
    }
   ],
   "source": [
    "print_rozwiazanie(prob)"
   ]
  },
  {
   "cell_type": "markdown",
   "metadata": {
    "slideshow": {
     "slide_type": "slide"
    }
   },
   "source": [
    "## Problemy binarne\n",
    "\n",
    " - Którą trasę wybrać ( decyzja: wybieram daną trasę)\n",
    " - Którą ciężarówkę\n",
    " - Czy podjąć inwestycję\n",
    "    \n",
    "Decyzje typu tak/nie"
   ]
  },
  {
   "cell_type": "markdown",
   "metadata": {
    "slideshow": {
     "slide_type": "slide"
    }
   },
   "source": [
    "## Jesteśmy w stanie za pomocą zmiennych binarnych modelować także bardziej skomplikowane elementy decyzji poprzez tworznie dodatkowych zmiennych decyzyjnych\n",
    "\n",
    "# Przykład\n",
    "\n",
    " Ma być spełniona **jedna** z dwóch nierówności\n",
    "\n",
    "Zmaksymalizuj\n",
    "x+y\n",
    "\n",
    "Dla\n",
    "\n",
    "0<=x<= 10 0<=y<=10\n",
    "\n",
    "ale \n",
    "\n",
    "x + y <= 3\n",
    "\n",
    "lub\n",
    "\n",
    "3y + x <=3\n",
    "\n",
    "\n"
   ]
  },
  {
   "cell_type": "code",
   "execution_count": 201,
   "metadata": {},
   "outputs": [
    {
     "data": {
      "text/plain": [
       "Problem alternatywnych ograniczeń:\n",
       "MAXIMIZE\n",
       "None\n",
       "VARIABLES"
      ]
     },
     "execution_count": 201,
     "metadata": {},
     "output_type": "execute_result"
    }
   ],
   "source": [
    "prob = LpProblem(\"Problem alternatywnych ograniczeń\", LpMaximize)\n",
    "prob"
   ]
  },
  {
   "cell_type": "code",
   "execution_count": 208,
   "metadata": {
    "slideshow": {
     "slide_type": "slide"
    }
   },
   "outputs": [],
   "source": [
    "import pulp\n",
    "\n",
    "from pulp import *\n",
    "#del(prob)\n",
    "prob2 = LpProblem(\"Problem alternatywnych ograniczeń\", LpMaximize)\n",
    "\n",
    "x=LpVariable(\"x\",0,10,cat = LpContinuous)\n",
    "\n",
    "y=LpVariable(\"y\",0,10,cat = LpContinuous)\n"
   ]
  },
  {
   "cell_type": "code",
   "execution_count": 209,
   "metadata": {
    "slideshow": {
     "slide_type": "fragment"
    }
   },
   "outputs": [],
   "source": [
    "z=LpVariable(\"zignoruj_jedno\",cat = LpBinary)\n"
   ]
  },
  {
   "cell_type": "code",
   "execution_count": 210,
   "metadata": {
    "slideshow": {
     "slide_type": "fragment"
    }
   },
   "outputs": [],
   "source": [
    "prob2 += x+y, \"Banalny zysk\""
   ]
  },
  {
   "cell_type": "code",
   "execution_count": 211,
   "metadata": {
    "slideshow": {
     "slide_type": "fragment"
    }
   },
   "outputs": [
    {
     "name": "stdout",
     "output_type": "stream",
     "text": [
      "Status: Optimal\n",
      "x = 4.3333333\n",
      "y = 10.0\n",
      "zignoruj_jedno = 1.0\n",
      "Cel =  14.3333333\n"
     ]
    }
   ],
   "source": [
    "prob2 += x+y <= 3+10000*z, \"jedno ograniczenie\"\n",
    "\n",
    "prob2 += 3*x-y <= 3 +10000*(1-z), \"drugie ograniczenie\"\n",
    "\n",
    "print_rozwiazanie(prob2)"
   ]
  },
  {
   "cell_type": "code",
   "execution_count": 212,
   "metadata": {},
   "outputs": [
    {
     "data": {
      "text/plain": [
       "Problem alternatywnych ograniczeń:\n",
       "MAXIMIZE\n",
       "1*x + 1*y + 0\n",
       "SUBJECT TO\n",
       "jedno_ograniczenie: x + y - 10000 zignoruj_jedno <= 3\n",
       "\n",
       "drugie_ograniczenie: 3 x - y + 10000 zignoruj_jedno <= 10003\n",
       "\n",
       "VARIABLES\n",
       "x <= 10 Continuous\n",
       "y <= 10 Continuous\n",
       "0 <= zignoruj_jedno <= 1 Integer"
      ]
     },
     "execution_count": 212,
     "metadata": {},
     "output_type": "execute_result"
    }
   ],
   "source": [
    "prob2"
   ]
  },
  {
   "cell_type": "markdown",
   "metadata": {
    "slideshow": {
     "slide_type": "slide"
    }
   },
   "source": [
    "## Scheduling problem"
   ]
  },
  {
   "cell_type": "markdown",
   "metadata": {
    "slideshow": {
     "slide_type": "subslide"
    }
   },
   "source": [
    "# Ania Kasia i Piotr mogą dla nas pracować\n",
    "\n",
    "# Każde z nich może pracować 3 dni w tygodniu\n",
    "\n",
    "# Każde ma inne stawki\n",
    "\n",
    "# Ania nie może w pon, Piotr w czwartek i piątek\n",
    "\n",
    "# stawki za dzień:\n",
    "\n",
    "#Ania: 150\n",
    "#Kasia: 160\n",
    "#Piotr: 140\n",
    "\n",
    "# We wtorek potrzebujemy 2 osoby, w inne dni jedną\n",
    "\n",
    "# Funkcja celu?\n",
    "# Zmienne decyzyjne\n"
   ]
  },
  {
   "cell_type": "code",
   "execution_count": 217,
   "metadata": {
    "slideshow": {
     "slide_type": "subslide"
    }
   },
   "outputs": [],
   "source": [
    "prob3 = LpProblem(\"Problem planu\", LpMinimize)\n",
    "\n",
    "\n"
   ]
  },
  {
   "cell_type": "code",
   "execution_count": 218,
   "metadata": {
    "slideshow": {
     "slide_type": "fragment"
    }
   },
   "outputs": [
    {
     "name": "stdout",
     "output_type": "stream",
     "text": [
      "{'Ania': {'pon': Plan_Ania_pon, 'wto': Plan_Ania_wto, 'sro': Plan_Ania_sro, 'czwar': Plan_Ania_czwar, 'pio': Plan_Ania_pio}, 'Kasia': {'pon': Plan_Kasia_pon, 'wto': Plan_Kasia_wto, 'sro': Plan_Kasia_sro, 'czwar': Plan_Kasia_czwar, 'pio': Plan_Kasia_pio}, 'Piotr': {'pon': Plan_Piotr_pon, 'wto': Plan_Piotr_wto, 'sro': Plan_Piotr_sro, 'czwar': Plan_Piotr_czwar, 'pio': Plan_Piotr_pio}}\n"
     ]
    }
   ],
   "source": [
    "dni_tyg = [\"pon\",\"wto\",\"sro\",\"czwar\",\"pio\"]\n",
    "\n",
    "ludzie = [\"Ania\", \"Kasia\", \"Piotr\"]\n",
    "\n",
    "koszt = [150,160,140]\n",
    "\n",
    "ludzie_dni = LpVariable.dicts(\"Plan\", (ludzie,dni_tyg), cat=\"Binary\")\n",
    "\n",
    "print(ludzie_dni)\n",
    "\n",
    "\n"
   ]
  },
  {
   "cell_type": "code",
   "execution_count": 219,
   "metadata": {
    "slideshow": {
     "slide_type": "fragment"
    }
   },
   "outputs": [
    {
     "name": "stdout",
     "output_type": "stream",
     "text": [
      "Problem planu:\n",
      "MINIMIZE\n",
      "150*Plan_Ania_czwar + 150*Plan_Ania_pio + 150*Plan_Ania_pon + 150*Plan_Ania_sro + 150*Plan_Ania_wto + 160*Plan_Kasia_czwar + 160*Plan_Kasia_pio + 160*Plan_Kasia_pon + 160*Plan_Kasia_sro + 160*Plan_Kasia_wto + 140*Plan_Piotr_czwar + 140*Plan_Piotr_pio + 140*Plan_Piotr_pon + 140*Plan_Piotr_sro + 140*Plan_Piotr_wto + 0\n",
      "VARIABLES\n",
      "0 <= Plan_Ania_czwar <= 1 Integer\n",
      "0 <= Plan_Ania_pio <= 1 Integer\n",
      "0 <= Plan_Ania_pon <= 1 Integer\n",
      "0 <= Plan_Ania_sro <= 1 Integer\n",
      "0 <= Plan_Ania_wto <= 1 Integer\n",
      "0 <= Plan_Kasia_czwar <= 1 Integer\n",
      "0 <= Plan_Kasia_pio <= 1 Integer\n",
      "0 <= Plan_Kasia_pon <= 1 Integer\n",
      "0 <= Plan_Kasia_sro <= 1 Integer\n",
      "0 <= Plan_Kasia_wto <= 1 Integer\n",
      "0 <= Plan_Piotr_czwar <= 1 Integer\n",
      "0 <= Plan_Piotr_pio <= 1 Integer\n",
      "0 <= Plan_Piotr_pon <= 1 Integer\n",
      "0 <= Plan_Piotr_sro <= 1 Integer\n",
      "0 <= Plan_Piotr_wto <= 1 Integer\n",
      "\n"
     ]
    }
   ],
   "source": [
    "prob3 += lpSum(lpSum(koszt*lpSum(ludzie_dni[imie]) for imie,koszt in zip(ludzie,koszt))), \"Ile zaplacimy\"\n",
    "print(prob3)"
   ]
  },
  {
   "cell_type": "code",
   "execution_count": 220,
   "metadata": {
    "slideshow": {
     "slide_type": "slide"
    }
   },
   "outputs": [
    {
     "name": "stdout",
     "output_type": "stream",
     "text": [
      "Problem planu:\n",
      "MINIMIZE\n",
      "150*Plan_Ania_czwar + 150*Plan_Ania_pio + 150*Plan_Ania_pon + 150*Plan_Ania_sro + 150*Plan_Ania_wto + 160*Plan_Kasia_czwar + 160*Plan_Kasia_pio + 160*Plan_Kasia_pon + 160*Plan_Kasia_sro + 160*Plan_Kasia_wto + 140*Plan_Piotr_czwar + 140*Plan_Piotr_pio + 140*Plan_Piotr_pon + 140*Plan_Piotr_sro + 140*Plan_Piotr_wto + 0\n",
      "SUBJECT TO\n",
      "_C1: Plan_Ania_pon + Plan_Kasia_pon + Plan_Piotr_pon = 1\n",
      "\n",
      "_C2: Plan_Ania_wto + Plan_Kasia_wto + Plan_Piotr_wto = 2\n",
      "\n",
      "_C3: Plan_Ania_sro + Plan_Kasia_sro + Plan_Piotr_sro = 1\n",
      "\n",
      "_C4: Plan_Ania_czwar + Plan_Kasia_czwar + Plan_Piotr_czwar = 1\n",
      "\n",
      "_C5: Plan_Ania_pio + Plan_Kasia_pio + Plan_Piotr_pio = 1\n",
      "\n",
      "VARIABLES\n",
      "0 <= Plan_Ania_czwar <= 1 Integer\n",
      "0 <= Plan_Ania_pio <= 1 Integer\n",
      "0 <= Plan_Ania_pon <= 1 Integer\n",
      "0 <= Plan_Ania_sro <= 1 Integer\n",
      "0 <= Plan_Ania_wto <= 1 Integer\n",
      "0 <= Plan_Kasia_czwar <= 1 Integer\n",
      "0 <= Plan_Kasia_pio <= 1 Integer\n",
      "0 <= Plan_Kasia_pon <= 1 Integer\n",
      "0 <= Plan_Kasia_sro <= 1 Integer\n",
      "0 <= Plan_Kasia_wto <= 1 Integer\n",
      "0 <= Plan_Piotr_czwar <= 1 Integer\n",
      "0 <= Plan_Piotr_pio <= 1 Integer\n",
      "0 <= Plan_Piotr_pon <= 1 Integer\n",
      "0 <= Plan_Piotr_sro <= 1 Integer\n",
      "0 <= Plan_Piotr_wto <= 1 Integer\n",
      "\n"
     ]
    }
   ],
   "source": [
    "ile_potrzebnych_osob = [1,2,1,1,1]\n",
    "for dzien,potrzebnych_osob in zip(dni_tyg,ile_potrzebnych_osob):\n",
    "\n",
    "    prob3 += lpSum(ludzie_dni[imie][dzien] for imie in ludzie) == potrzebnych_osob\n",
    "print(prob3)"
   ]
  },
  {
   "cell_type": "code",
   "execution_count": 221,
   "metadata": {
    "slideshow": {
     "slide_type": "slide"
    }
   },
   "outputs": [],
   "source": [
    "prob3 += ludzie_dni[\"Kasia\"][\"pon\"] == 0\n",
    "prob3 += ludzie_dni[\"Piotr\"][\"czwar\"] == 0\n",
    "prob3 += ludzie_dni[\"Piotr\"][\"pio\"] == 0\n"
   ]
  },
  {
   "cell_type": "code",
   "execution_count": 222,
   "metadata": {
    "slideshow": {
     "slide_type": "fragment"
    }
   },
   "outputs": [],
   "source": [
    "for imie in ludzie:\n",
    "    prob3 += lpSum(ludzie_dni[imie]) <= 3\n",
    "\n"
   ]
  },
  {
   "cell_type": "code",
   "execution_count": 183,
   "metadata": {
    "slideshow": {
     "slide_type": "fragment"
    }
   },
   "outputs": [
    {
     "name": "stdout",
     "output_type": "stream",
     "text": [
      "Problem planu:\n",
      "MINIMIZE\n",
      "150*Plan_Ania_czwar + 150*Plan_Ania_pio + 150*Plan_Ania_pon + 150*Plan_Ania_sro + 150*Plan_Ania_wto + 160*Plan_Kasia_czwar + 160*Plan_Kasia_pio + 160*Plan_Kasia_pon + 160*Plan_Kasia_sro + 160*Plan_Kasia_wto + 140*Plan_Piotr_czwar + 140*Plan_Piotr_pio + 140*Plan_Piotr_pon + 140*Plan_Piotr_sro + 140*Plan_Piotr_wto + 0\n",
      "SUBJECT TO\n",
      "_C1: Plan_Ania_pon + Plan_Kasia_pon + Plan_Piotr_pon = 1\n",
      "\n",
      "_C2: Plan_Ania_wto + Plan_Kasia_wto + Plan_Piotr_wto = 2\n",
      "\n",
      "_C3: Plan_Ania_sro + Plan_Kasia_sro + Plan_Piotr_sro = 1\n",
      "\n",
      "_C4: Plan_Ania_czwar + Plan_Kasia_czwar + Plan_Piotr_czwar = 1\n",
      "\n",
      "_C5: Plan_Ania_pio + Plan_Kasia_pio + Plan_Piotr_pio = 1\n",
      "\n",
      "_C6: Plan_Kasia_pon = 0\n",
      "\n",
      "_C7: Plan_Piotr_czwar = 0\n",
      "\n",
      "_C8: Plan_Piotr_pio = 0\n",
      "\n",
      "_C9: Plan_Ania_czwar + Plan_Ania_pio + Plan_Ania_pon + Plan_Ania_sro\n",
      " + Plan_Ania_wto <= 3\n",
      "\n",
      "_C10: Plan_Kasia_czwar + Plan_Kasia_pio + Plan_Kasia_pon + Plan_Kasia_sro\n",
      " + Plan_Kasia_wto <= 3\n",
      "\n",
      "_C11: Plan_Piotr_czwar + Plan_Piotr_pio + Plan_Piotr_pon + Plan_Piotr_sro\n",
      " + Plan_Piotr_wto <= 3\n",
      "\n",
      "VARIABLES\n",
      "0 <= Plan_Ania_czwar <= 1 Integer\n",
      "0 <= Plan_Ania_pio <= 1 Integer\n",
      "0 <= Plan_Ania_pon <= 1 Integer\n",
      "0 <= Plan_Ania_sro <= 1 Integer\n",
      "0 <= Plan_Ania_wto <= 1 Integer\n",
      "0 <= Plan_Kasia_czwar <= 1 Integer\n",
      "0 <= Plan_Kasia_pio <= 1 Integer\n",
      "0 <= Plan_Kasia_pon <= 1 Integer\n",
      "0 <= Plan_Kasia_sro <= 1 Integer\n",
      "0 <= Plan_Kasia_wto <= 1 Integer\n",
      "0 <= Plan_Piotr_czwar <= 1 Integer\n",
      "0 <= Plan_Piotr_pio <= 1 Integer\n",
      "0 <= Plan_Piotr_pon <= 1 Integer\n",
      "0 <= Plan_Piotr_sro <= 1 Integer\n",
      "0 <= Plan_Piotr_wto <= 1 Integer\n",
      "\n"
     ]
    }
   ],
   "source": [
    "print(prob3)"
   ]
  },
  {
   "cell_type": "code",
   "execution_count": 184,
   "metadata": {
    "slideshow": {
     "slide_type": "slide"
    }
   },
   "outputs": [
    {
     "name": "stdout",
     "output_type": "stream",
     "text": [
      "Status: Optimal\n",
      "Plan_Ania_czwar = 1.0\n",
      "Plan_Ania_pio = 1.0\n",
      "Plan_Ania_pon = 0.0\n",
      "Plan_Ania_sro = 0.0\n",
      "Plan_Ania_wto = 1.0\n",
      "Plan_Kasia_czwar = 0.0\n",
      "Plan_Kasia_pio = 0.0\n",
      "Plan_Kasia_pon = 0.0\n",
      "Plan_Kasia_sro = 0.0\n",
      "Plan_Kasia_wto = 0.0\n",
      "Plan_Piotr_czwar = 0.0\n",
      "Plan_Piotr_pio = 0.0\n",
      "Plan_Piotr_pon = 1.0\n",
      "Plan_Piotr_sro = 1.0\n",
      "Plan_Piotr_wto = 1.0\n",
      "Cel =  870.0\n"
     ]
    }
   ],
   "source": [
    "print_rozwiazanie(prob3)"
   ]
  },
  {
   "cell_type": "code",
   "execution_count": 223,
   "metadata": {
    "slideshow": {
     "slide_type": "slide"
    }
   },
   "outputs": [],
   "source": [
    "# Ania Kasia i Piotr mogą dla nas pracować\n",
    "\n",
    "# Każde z nich może pracować 24h w tygodniu\n",
    "\n",
    "# Każde ma inne stawki\n",
    "\n",
    "# Ania nie może w pon, Piotr w czwartek i piątek\n",
    "\n",
    "# stawki za godzinę:\n",
    "\n",
    "#Ania: 15\n",
    "#Kasia: 16\n",
    "#Piotr: 14\n",
    "\n",
    "# We wtorek potrzebujemy 12h, w inne dni 8\n",
    "\n",
    "# Funkcja celu?\n",
    "# Zmienne decyzyjne\n"
   ]
  },
  {
   "cell_type": "code",
   "execution_count": null,
   "metadata": {},
   "outputs": [],
   "source": []
  }
 ],
 "metadata": {
  "celltoolbar": "Slideshow",
  "kernelspec": {
   "display_name": "Python 3",
   "language": "python",
   "name": "python3"
  },
  "language_info": {
   "codemirror_mode": {
    "name": "ipython",
    "version": 3
   },
   "file_extension": ".py",
   "mimetype": "text/x-python",
   "name": "python",
   "nbconvert_exporter": "python",
   "pygments_lexer": "ipython3",
   "version": "3.7.3"
  }
 },
 "nbformat": 4,
 "nbformat_minor": 2
}
