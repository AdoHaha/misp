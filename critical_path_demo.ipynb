{
  "nbformat": 4,
  "nbformat_minor": 0,
  "metadata": {
    "colab": {
      "name": "critical_path_demo.ipynb",
      "provenance": [],
      "authorship_tag": "ABX9TyOByEohdi7nN4xTQQJNZGX8",
      "include_colab_link": true
    },
    "kernelspec": {
      "name": "python3",
      "display_name": "Python 3"
    }
  },
  "cells": [
    {
      "cell_type": "markdown",
      "metadata": {
        "id": "view-in-github",
        "colab_type": "text"
      },
      "source": [
        "<a href=\"https://colab.research.google.com/github/AdoHaha/misp/blob/master/critical_path_demo.ipynb\" target=\"_parent\"><img src=\"https://colab.research.google.com/assets/colab-badge.svg\" alt=\"Open In Colab\"/></a>"
      ]
    },
    {
      "cell_type": "code",
      "metadata": {
        "colab": {
          "base_uri": "https://localhost:8080/"
        },
        "id": "a2cCgMrY6Bh0",
        "outputId": "e28ebbbd-ac13-4925-dd00-b864dfef8e58"
      },
      "source": [
        "!pip install criticalpath\n"
      ],
      "execution_count": 1,
      "outputs": [
        {
          "output_type": "stream",
          "text": [
            "Collecting criticalpath\n",
            "  Downloading https://files.pythonhosted.org/packages/f0/b3/4a0151bffc3315f414c483dce6313b8473a2d0221a359a4d80d48fa78cba/criticalpath-0.1.5.tar.gz\n",
            "Building wheels for collected packages: criticalpath\n",
            "  Building wheel for criticalpath (setup.py) ... \u001b[?25l\u001b[?25hdone\n",
            "  Created wheel for criticalpath: filename=criticalpath-0.1.5-cp36-none-any.whl size=12041 sha256=31b9639ca8156348bc100bb434c867d94c535ae07cf4255efc63ae789291c3f5\n",
            "  Stored in directory: /root/.cache/pip/wheels/49/07/a6/e04086e98dc47934106a674b7fe4708ef4f49168f39266a182\n",
            "Successfully built criticalpath\n",
            "Installing collected packages: criticalpath\n",
            "Successfully installed criticalpath-0.1.5\n"
          ],
          "name": "stdout"
        }
      ]
    },
    {
      "cell_type": "code",
      "metadata": {
        "colab": {
          "base_uri": "https://localhost:8080/"
        },
        "id": "Eyt0V32r6J-H",
        "outputId": "921c8c21-1c72-4ad8-b3a8-d325f7753da4"
      },
      "source": [
        "from criticalpath import Node\n",
        "\n",
        "p = Node('reliable_project')\n",
        "czasy_nodes = {\"start\":(0,),\"a\":(2,\"start\"), \"b\":(4,\"a\"),\"c\":(10,\"b\"),\"d\":(6,\"c\"),\"e\":(4,\"c\"),\n",
        "               \"i\":(7,\"c\"),\"g\":(7,\"d\"),\"f\":(5,\"e\"),\"h\":(9,\"g\",\"e\"),\"j\":(8,\"f\",\"i\"),\n",
        "               \"m\":(2,\"h\"),\"k\":(4,\"j\"),\"l\":(5,\"j\"),\"n\":(6,\"k\",\"l\"),\"finish\":(0,\"m\",\"n\")\n",
        "\n",
        "               }\n",
        "\n",
        "\n",
        "\n",
        "graph_nodes = {}\n",
        "\n",
        "for key,val in czasy_nodes.items():\n",
        "  graph_nodes[key] = p.add(Node(key,duration = val[0]))\n",
        "\n",
        "for key,val in czasy_nodes.items():\n",
        "  for parent in val[1:]:\n",
        "    p.link(graph_nodes[parent], graph_nodes[key])\n",
        "\n",
        "\n",
        "p.update_all()\n",
        "p.get_critical_path()\n",
        "\n",
        "p.duration"
      ],
      "execution_count": 7,
      "outputs": [
        {
          "output_type": "execute_result",
          "data": {
            "text/plain": [
              "44"
            ]
          },
          "metadata": {
            "tags": []
          },
          "execution_count": 7
        }
      ]
    },
    {
      "cell_type": "code",
      "metadata": {
        "colab": {
          "base_uri": "https://localhost:8080/"
        },
        "id": "j1KUnJy98EJh",
        "outputId": "122b85ce-4e05-415a-bad4-94d5858f39d2"
      },
      "source": [
        "!apt install -y graphviz\n",
        "!pip install graphviz\n"
      ],
      "execution_count": 5,
      "outputs": [
        {
          "output_type": "stream",
          "text": [
            "Reading package lists... Done\n",
            "Building dependency tree       \n",
            "Reading state information... Done\n",
            "graphviz is already the newest version (2.40.1-2).\n",
            "0 upgraded, 0 newly installed, 0 to remove and 16 not upgraded.\n",
            "Requirement already satisfied: graphviz in /usr/local/lib/python3.6/dist-packages (0.10.1)\n"
          ],
          "name": "stdout"
        }
      ]
    },
    {
      "cell_type": "code",
      "metadata": {
        "colab": {
          "base_uri": "https://localhost:8080/",
          "height": 1000
        },
        "id": "nWASGUpH96Dr",
        "outputId": "1fd0cd8c-38cb-4c0d-bca0-8f9dd7a4ced6"
      },
      "source": [
        "from graphviz import Digraph\n",
        "\n",
        "project_tree = Digraph()\n",
        "\n",
        "\n",
        "labels = dict(zip(\"abcdefghijklmn\",[\"Excavate\",\n",
        "\"Foundation\",\n",
        "\"Rough wall\",\n",
        "\"Roof\",\n",
        "\"Exterior plumbing\",\n",
        "\"Interior plumbing\",\n",
        "\"Exterior siding\",\n",
        "\"Exterior painting\",\n",
        "\"Electrical work\",\n",
        "\"Wallboard\",\n",
        "\"Flooring\",\n",
        "\"Interior painting\",\n",
        "\"Exterior fixtures\",\n",
        "\"Interior fixtures\"]))\n",
        "\n",
        "\n",
        "for key,val in czasy_nodes.items():\n",
        "  if key not in [\"start\",\"finish\"]:\n",
        "    project_tree.node(key,labels[key] + \"\\n duration:\" + str(val[0]))\n",
        "  else:\n",
        "    project_tree.node(key,key)\n",
        "for key,val in czasy_nodes.items():\n",
        "  for parent in val[1:]:\n",
        "    project_tree.edge(parent,key)\n",
        "\n",
        "project_tree"
      ],
      "execution_count": 12,
      "outputs": [
        {
          "output_type": "execute_result",
          "data": {
            "text/plain": [
              "<graphviz.dot.Digraph at 0x7f73ff191828>"
            ],
            "image/svg+xml": "<?xml version=\"1.0\" encoding=\"UTF-8\" standalone=\"no\"?>\n<!DOCTYPE svg PUBLIC \"-//W3C//DTD SVG 1.1//EN\"\n \"http://www.w3.org/Graphics/SVG/1.1/DTD/svg11.dtd\">\n<!-- Generated by graphviz version 2.40.1 (20161225.0304)\n -->\n<!-- Title: %3 Pages: 1 -->\n<svg width=\"540pt\" height=\"834pt\"\n viewBox=\"0.00 0.00 539.96 833.92\" xmlns=\"http://www.w3.org/2000/svg\" xmlns:xlink=\"http://www.w3.org/1999/xlink\">\n<g id=\"graph0\" class=\"graph\" transform=\"scale(1 1) rotate(0) translate(4 829.9209)\">\n<title>%3</title>\n<polygon fill=\"#ffffff\" stroke=\"transparent\" points=\"-4,4 -4,-829.9209 535.9569,-829.9209 535.9569,4 -4,4\"/>\n<!-- start -->\n<g id=\"node1\" class=\"node\">\n<title>start</title>\n<ellipse fill=\"none\" stroke=\"#000000\" cx=\"271.1249\" cy=\"-807.9209\" rx=\"27\" ry=\"18\"/>\n<text text-anchor=\"middle\" x=\"271.1249\" y=\"-804.2209\" font-family=\"Times,serif\" font-size=\"14.00\" fill=\"#000000\">start</text>\n</g>\n<!-- a -->\n<g id=\"node2\" class=\"node\">\n<title>a</title>\n<ellipse fill=\"none\" stroke=\"#000000\" cx=\"271.1249\" cy=\"-727.0509\" rx=\"56.6372\" ry=\"26.7407\"/>\n<text text-anchor=\"middle\" x=\"271.1249\" y=\"-730.8509\" font-family=\"Times,serif\" font-size=\"14.00\" fill=\"#000000\">Excavate</text>\n<text text-anchor=\"middle\" x=\"271.1249\" y=\"-715.8509\" font-family=\"Times,serif\" font-size=\"14.00\" fill=\"#000000\"> duration:2</text>\n</g>\n<!-- start&#45;&gt;a -->\n<g id=\"edge1\" class=\"edge\">\n<title>start&#45;&gt;a</title>\n<path fill=\"none\" stroke=\"#000000\" d=\"M271.1249,-789.5703C271.1249,-782.0004 271.1249,-772.9409 271.1249,-764.099\"/>\n<polygon fill=\"#000000\" stroke=\"#000000\" points=\"274.625,-763.9215 271.1249,-753.9215 267.625,-763.9215 274.625,-763.9215\"/>\n</g>\n<!-- b -->\n<g id=\"node3\" class=\"node\">\n<title>b</title>\n<ellipse fill=\"none\" stroke=\"#000000\" cx=\"271.1249\" cy=\"-637.3107\" rx=\"58.8803\" ry=\"26.7407\"/>\n<text text-anchor=\"middle\" x=\"271.1249\" y=\"-641.1107\" font-family=\"Times,serif\" font-size=\"14.00\" fill=\"#000000\">Foundation</text>\n<text text-anchor=\"middle\" x=\"271.1249\" y=\"-626.1107\" font-family=\"Times,serif\" font-size=\"14.00\" fill=\"#000000\"> duration:4</text>\n</g>\n<!-- a&#45;&gt;b -->\n<g id=\"edge2\" class=\"edge\">\n<title>a&#45;&gt;b</title>\n<path fill=\"none\" stroke=\"#000000\" d=\"M271.1249,-700.1259C271.1249,-692.0509 271.1249,-683.0477 271.1249,-674.4368\"/>\n<polygon fill=\"#000000\" stroke=\"#000000\" points=\"274.625,-674.2167 271.1249,-664.2167 267.625,-674.2168 274.625,-674.2167\"/>\n</g>\n<!-- c -->\n<g id=\"node4\" class=\"node\">\n<title>c</title>\n<ellipse fill=\"none\" stroke=\"#000000\" cx=\"271.1249\" cy=\"-547.5706\" rx=\"61.5366\" ry=\"26.7407\"/>\n<text text-anchor=\"middle\" x=\"271.1249\" y=\"-551.3706\" font-family=\"Times,serif\" font-size=\"14.00\" fill=\"#000000\">Rough wall</text>\n<text text-anchor=\"middle\" x=\"271.1249\" y=\"-536.3706\" font-family=\"Times,serif\" font-size=\"14.00\" fill=\"#000000\"> duration:10</text>\n</g>\n<!-- b&#45;&gt;c -->\n<g id=\"edge3\" class=\"edge\">\n<title>b&#45;&gt;c</title>\n<path fill=\"none\" stroke=\"#000000\" d=\"M271.1249,-610.3858C271.1249,-602.3108 271.1249,-593.3075 271.1249,-584.6966\"/>\n<polygon fill=\"#000000\" stroke=\"#000000\" points=\"274.625,-584.4766 271.1249,-574.4766 267.625,-584.4767 274.625,-584.4766\"/>\n</g>\n<!-- d -->\n<g id=\"node5\" class=\"node\">\n<title>d</title>\n<ellipse fill=\"none\" stroke=\"#000000\" cx=\"97.1249\" cy=\"-457.8305\" rx=\"56.6372\" ry=\"26.7407\"/>\n<text text-anchor=\"middle\" x=\"97.1249\" y=\"-461.6305\" font-family=\"Times,serif\" font-size=\"14.00\" fill=\"#000000\">Roof</text>\n<text text-anchor=\"middle\" x=\"97.1249\" y=\"-446.6305\" font-family=\"Times,serif\" font-size=\"14.00\" fill=\"#000000\"> duration:6</text>\n</g>\n<!-- c&#45;&gt;d -->\n<g id=\"edge4\" class=\"edge\">\n<title>c&#45;&gt;d</title>\n<path fill=\"none\" stroke=\"#000000\" d=\"M231.2058,-526.9824C205.4248,-513.6859 171.7505,-496.3185 144.5989,-482.3151\"/>\n<polygon fill=\"#000000\" stroke=\"#000000\" points=\"146.1538,-479.179 135.6618,-477.7059 142.9451,-485.4003 146.1538,-479.179\"/>\n</g>\n<!-- e -->\n<g id=\"node6\" class=\"node\">\n<title>e</title>\n<ellipse fill=\"none\" stroke=\"#000000\" cx=\"271.1249\" cy=\"-457.8305\" rx=\"86.9483\" ry=\"26.7407\"/>\n<text text-anchor=\"middle\" x=\"271.1249\" y=\"-461.6305\" font-family=\"Times,serif\" font-size=\"14.00\" fill=\"#000000\">Exterior plumbing</text>\n<text text-anchor=\"middle\" x=\"271.1249\" y=\"-446.6305\" font-family=\"Times,serif\" font-size=\"14.00\" fill=\"#000000\"> duration:4</text>\n</g>\n<!-- c&#45;&gt;e -->\n<g id=\"edge5\" class=\"edge\">\n<title>c&#45;&gt;e</title>\n<path fill=\"none\" stroke=\"#000000\" d=\"M271.1249,-520.6456C271.1249,-512.5707 271.1249,-503.5674 271.1249,-494.9565\"/>\n<polygon fill=\"#000000\" stroke=\"#000000\" points=\"274.625,-494.7365 271.1249,-484.7365 267.625,-494.7365 274.625,-494.7365\"/>\n</g>\n<!-- i -->\n<g id=\"node7\" class=\"node\">\n<title>i</title>\n<ellipse fill=\"none\" stroke=\"#000000\" cx=\"459.1249\" cy=\"-368.0904\" rx=\"72.6644\" ry=\"26.7407\"/>\n<text text-anchor=\"middle\" x=\"459.1249\" y=\"-371.8904\" font-family=\"Times,serif\" font-size=\"14.00\" fill=\"#000000\">Electrical work</text>\n<text text-anchor=\"middle\" x=\"459.1249\" y=\"-356.8904\" font-family=\"Times,serif\" font-size=\"14.00\" fill=\"#000000\"> duration:7</text>\n</g>\n<!-- c&#45;&gt;i -->\n<g id=\"edge6\" class=\"edge\">\n<title>c&#45;&gt;i</title>\n<path fill=\"none\" stroke=\"#000000\" d=\"M309.6224,-526.2982C328.0342,-515.1729 349.7853,-500.5751 367.1249,-484.7006 393.8367,-460.2457 418.9288,-427.5275 436.1391,-402.9725\"/>\n<polygon fill=\"#000000\" stroke=\"#000000\" points=\"439.0815,-404.871 441.8876,-394.6545 433.3229,-400.8912 439.0815,-404.871\"/>\n</g>\n<!-- g -->\n<g id=\"node8\" class=\"node\">\n<title>g</title>\n<ellipse fill=\"none\" stroke=\"#000000\" cx=\"72.1249\" cy=\"-368.0904\" rx=\"72.25\" ry=\"26.7407\"/>\n<text text-anchor=\"middle\" x=\"72.1249\" y=\"-371.8904\" font-family=\"Times,serif\" font-size=\"14.00\" fill=\"#000000\">Exterior siding</text>\n<text text-anchor=\"middle\" x=\"72.1249\" y=\"-356.8904\" font-family=\"Times,serif\" font-size=\"14.00\" fill=\"#000000\"> duration:7</text>\n</g>\n<!-- d&#45;&gt;g -->\n<g id=\"edge7\" class=\"edge\">\n<title>d&#45;&gt;g</title>\n<path fill=\"none\" stroke=\"#000000\" d=\"M89.6241,-430.9055C87.3251,-422.6531 84.756,-413.4311 82.3095,-404.6492\"/>\n<polygon fill=\"#000000\" stroke=\"#000000\" points=\"85.6757,-403.6903 79.6204,-394.9964 78.9325,-405.5689 85.6757,-403.6903\"/>\n</g>\n<!-- f -->\n<g id=\"node9\" class=\"node\">\n<title>f</title>\n<ellipse fill=\"none\" stroke=\"#000000\" cx=\"284.1249\" cy=\"-368.0904\" rx=\"84.2917\" ry=\"26.7407\"/>\n<text text-anchor=\"middle\" x=\"284.1249\" y=\"-371.8904\" font-family=\"Times,serif\" font-size=\"14.00\" fill=\"#000000\">Interior plumbing</text>\n<text text-anchor=\"middle\" x=\"284.1249\" y=\"-356.8904\" font-family=\"Times,serif\" font-size=\"14.00\" fill=\"#000000\"> duration:5</text>\n</g>\n<!-- e&#45;&gt;f -->\n<g id=\"edge8\" class=\"edge\">\n<title>e&#45;&gt;f</title>\n<path fill=\"none\" stroke=\"#000000\" d=\"M275.0253,-430.9055C276.2079,-422.7419 277.528,-413.6293 278.7878,-404.9327\"/>\n<polygon fill=\"#000000\" stroke=\"#000000\" points=\"282.2573,-405.3949 280.2272,-394.9964 275.3296,-404.3913 282.2573,-405.3949\"/>\n</g>\n<!-- h -->\n<g id=\"node10\" class=\"node\">\n<title>h</title>\n<ellipse fill=\"none\" stroke=\"#000000\" cx=\"136.1249\" cy=\"-278.3503\" rx=\"80.7205\" ry=\"26.7407\"/>\n<text text-anchor=\"middle\" x=\"136.1249\" y=\"-282.1503\" font-family=\"Times,serif\" font-size=\"14.00\" fill=\"#000000\">Exterior painting</text>\n<text text-anchor=\"middle\" x=\"136.1249\" y=\"-267.1503\" font-family=\"Times,serif\" font-size=\"14.00\" fill=\"#000000\"> duration:9</text>\n</g>\n<!-- e&#45;&gt;h -->\n<g id=\"edge10\" class=\"edge\">\n<title>e&#45;&gt;h</title>\n<path fill=\"none\" stroke=\"#000000\" d=\"M232.9311,-433.4548C218.5136,-422.9014 202.7924,-409.6054 191.1249,-394.9605 172.0013,-370.9569 157.5856,-339.2155 148.3204,-314.9103\"/>\n<polygon fill=\"#000000\" stroke=\"#000000\" points=\"151.53,-313.4979 144.7852,-305.3273 144.9626,-315.9207 151.53,-313.4979\"/>\n</g>\n<!-- j -->\n<g id=\"node11\" class=\"node\">\n<title>j</title>\n<ellipse fill=\"none\" stroke=\"#000000\" cx=\"319.1249\" cy=\"-278.3503\" rx=\"56.6372\" ry=\"26.7407\"/>\n<text text-anchor=\"middle\" x=\"319.1249\" y=\"-282.1503\" font-family=\"Times,serif\" font-size=\"14.00\" fill=\"#000000\">Wallboard</text>\n<text text-anchor=\"middle\" x=\"319.1249\" y=\"-267.1503\" font-family=\"Times,serif\" font-size=\"14.00\" fill=\"#000000\"> duration:8</text>\n</g>\n<!-- i&#45;&gt;j -->\n<g id=\"edge12\" class=\"edge\">\n<title>i&#45;&gt;j</title>\n<path fill=\"none\" stroke=\"#000000\" d=\"M422.707,-344.7465C403.9342,-332.7131 380.9383,-317.9727 361.3866,-305.4401\"/>\n<polygon fill=\"#000000\" stroke=\"#000000\" points=\"363.2655,-302.4872 352.9578,-300.0372 359.4879,-308.3804 363.2655,-302.4872\"/>\n</g>\n<!-- g&#45;&gt;h -->\n<g id=\"edge9\" class=\"edge\">\n<title>g&#45;&gt;h</title>\n<path fill=\"none\" stroke=\"#000000\" d=\"M90.9808,-341.6508C97.4259,-332.6135 104.732,-322.369 111.5601,-312.7948\"/>\n<polygon fill=\"#000000\" stroke=\"#000000\" points=\"114.4469,-314.7748 117.4037,-304.6009 108.7477,-310.7103 114.4469,-314.7748\"/>\n</g>\n<!-- f&#45;&gt;j -->\n<g id=\"edge11\" class=\"edge\">\n<title>f&#45;&gt;j</title>\n<path fill=\"none\" stroke=\"#000000\" d=\"M294.626,-341.1654C297.9088,-332.7484 301.5849,-323.3228 305.0711,-314.3843\"/>\n<polygon fill=\"#000000\" stroke=\"#000000\" points=\"308.3789,-315.5353 308.7518,-304.947 301.8573,-312.9918 308.3789,-315.5353\"/>\n</g>\n<!-- m -->\n<g id=\"node12\" class=\"node\">\n<title>m</title>\n<ellipse fill=\"none\" stroke=\"#000000\" cx=\"136.1249\" cy=\"-98.8701\" rx=\"77.5641\" ry=\"26.7407\"/>\n<text text-anchor=\"middle\" x=\"136.1249\" y=\"-102.6701\" font-family=\"Times,serif\" font-size=\"14.00\" fill=\"#000000\">Exterior fixtures</text>\n<text text-anchor=\"middle\" x=\"136.1249\" y=\"-87.6701\" font-family=\"Times,serif\" font-size=\"14.00\" fill=\"#000000\"> duration:2</text>\n</g>\n<!-- h&#45;&gt;m -->\n<g id=\"edge13\" class=\"edge\">\n<title>h&#45;&gt;m</title>\n<path fill=\"none\" stroke=\"#000000\" d=\"M136.1249,-251.0911C136.1249,-220.3417 136.1249,-170.1628 136.1249,-135.8858\"/>\n<polygon fill=\"#000000\" stroke=\"#000000\" points=\"139.625,-135.7977 136.1249,-125.7977 132.625,-135.7977 139.625,-135.7977\"/>\n</g>\n<!-- k -->\n<g id=\"node13\" class=\"node\">\n<title>k</title>\n<ellipse fill=\"none\" stroke=\"#000000\" cx=\"256.1249\" cy=\"-188.6102\" rx=\"56.6372\" ry=\"26.7407\"/>\n<text text-anchor=\"middle\" x=\"256.1249\" y=\"-192.4102\" font-family=\"Times,serif\" font-size=\"14.00\" fill=\"#000000\">Flooring</text>\n<text text-anchor=\"middle\" x=\"256.1249\" y=\"-177.4102\" font-family=\"Times,serif\" font-size=\"14.00\" fill=\"#000000\"> duration:4</text>\n</g>\n<!-- j&#45;&gt;k -->\n<g id=\"edge14\" class=\"edge\">\n<title>j&#45;&gt;k</title>\n<path fill=\"none\" stroke=\"#000000\" d=\"M300.9027,-252.3937C294.3818,-243.1052 286.9318,-232.493 280.0048,-222.6258\"/>\n<polygon fill=\"#000000\" stroke=\"#000000\" points=\"282.699,-220.372 274.0886,-214.1985 276.9698,-224.3941 282.699,-220.372\"/>\n</g>\n<!-- l -->\n<g id=\"node14\" class=\"node\">\n<title>l</title>\n<ellipse fill=\"none\" stroke=\"#000000\" cx=\"408.1249\" cy=\"-188.6102\" rx=\"77.5641\" ry=\"26.7407\"/>\n<text text-anchor=\"middle\" x=\"408.1249\" y=\"-192.4102\" font-family=\"Times,serif\" font-size=\"14.00\" fill=\"#000000\">Interior painting</text>\n<text text-anchor=\"middle\" x=\"408.1249\" y=\"-177.4102\" font-family=\"Times,serif\" font-size=\"14.00\" fill=\"#000000\"> duration:5</text>\n</g>\n<!-- j&#45;&gt;l -->\n<g id=\"edge15\" class=\"edge\">\n<title>j&#45;&gt;l</title>\n<path fill=\"none\" stroke=\"#000000\" d=\"M343.4445,-253.8284C353.397,-243.7932 365.0581,-232.0351 375.7175,-221.2871\"/>\n<polygon fill=\"#000000\" stroke=\"#000000\" points=\"378.347,-223.606 382.9037,-214.0411 373.3768,-218.6768 378.347,-223.606\"/>\n</g>\n<!-- finish -->\n<g id=\"node16\" class=\"node\">\n<title>finish</title>\n<ellipse fill=\"none\" stroke=\"#000000\" cx=\"221.1249\" cy=\"-18\" rx=\"31.6951\" ry=\"18\"/>\n<text text-anchor=\"middle\" x=\"221.1249\" y=\"-14.3\" font-family=\"Times,serif\" font-size=\"14.00\" fill=\"#000000\">finish</text>\n</g>\n<!-- m&#45;&gt;finish -->\n<g id=\"edge18\" class=\"edge\">\n<title>m&#45;&gt;finish</title>\n<path fill=\"none\" stroke=\"#000000\" d=\"M163.0194,-73.2823C174.0563,-62.7816 186.7237,-50.7297 197.4084,-40.5642\"/>\n<polygon fill=\"#000000\" stroke=\"#000000\" points=\"199.954,-42.9733 204.7863,-33.5447 195.1289,-37.9019 199.954,-42.9733\"/>\n</g>\n<!-- n -->\n<g id=\"node15\" class=\"node\">\n<title>n</title>\n<ellipse fill=\"none\" stroke=\"#000000\" cx=\"306.1249\" cy=\"-98.8701\" rx=\"74.4932\" ry=\"26.7407\"/>\n<text text-anchor=\"middle\" x=\"306.1249\" y=\"-102.6701\" font-family=\"Times,serif\" font-size=\"14.00\" fill=\"#000000\">Interior fixtures</text>\n<text text-anchor=\"middle\" x=\"306.1249\" y=\"-87.6701\" font-family=\"Times,serif\" font-size=\"14.00\" fill=\"#000000\"> duration:6</text>\n</g>\n<!-- k&#45;&gt;n -->\n<g id=\"edge16\" class=\"edge\">\n<title>k&#45;&gt;n</title>\n<path fill=\"none\" stroke=\"#000000\" d=\"M270.8561,-162.1706C275.6955,-153.4847 281.1564,-143.6836 286.3097,-134.4344\"/>\n<polygon fill=\"#000000\" stroke=\"#000000\" points=\"289.5164,-135.8699 291.3262,-125.4308 283.4015,-132.4629 289.5164,-135.8699\"/>\n</g>\n<!-- l&#45;&gt;n -->\n<g id=\"edge17\" class=\"edge\">\n<title>l&#45;&gt;n</title>\n<path fill=\"none\" stroke=\"#000000\" d=\"M379.4408,-163.3737C367.9368,-153.2525 354.5458,-141.471 342.3796,-130.7672\"/>\n<polygon fill=\"#000000\" stroke=\"#000000\" points=\"344.4135,-127.8948 334.5937,-123.9171 339.7897,-133.1503 344.4135,-127.8948\"/>\n</g>\n<!-- n&#45;&gt;finish -->\n<g id=\"edge19\" class=\"edge\">\n<title>n&#45;&gt;finish</title>\n<path fill=\"none\" stroke=\"#000000\" d=\"M279.6963,-73.7256C268.559,-63.1294 255.6949,-50.8903 244.8643,-40.586\"/>\n<polygon fill=\"#000000\" stroke=\"#000000\" points=\"247.0486,-37.8332 237.3912,-33.476 242.2236,-42.9046 247.0486,-37.8332\"/>\n</g>\n</g>\n</svg>\n"
          },
          "metadata": {
            "tags": []
          },
          "execution_count": 12
        }
      ]
    },
    {
      "cell_type": "code",
      "metadata": {
        "id": "G7zhbifh-mVp"
      },
      "source": [
        ""
      ],
      "execution_count": null,
      "outputs": []
    }
  ]
}